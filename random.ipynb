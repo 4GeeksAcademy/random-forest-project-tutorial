{
 "cells": [
  {
   "cell_type": "code",
   "execution_count": 1,
   "metadata": {},
   "outputs": [],
   "source": [
    "from ydata_profiling import ProfileReport\n",
    "import numpy as np\n",
    "from sklearn.tree import DecisionTreeClassifier\n",
    "from sklearn.ensemble import RandomForestClassifier\n",
    "from sklearn.datasets import load_breast_cancer\n",
    "from sklearn.model_selection import train_test_split\n",
    "from imblearn.metrics import specificity_score\n",
    "from sklearn.metrics import *\n",
    "\n",
    "import pandas as pd"
   ]
  },
  {
   "cell_type": "code",
   "execution_count": 86,
   "metadata": {},
   "outputs": [],
   "source": [
    "train_data = pd.read_csv('C:\\\\Users\\\\gamma\\\\Desktop\\\\Bootcamp\\\\13-Tree_decision\\\\tree-decision\\\\src\\\\datos_entrenados.csv')\n",
    "test_data = pd.read_csv('C:\\\\Users\\\\gamma\\\\Desktop\\\\Bootcamp\\\\13-Tree_decision\\\\tree-decision\\\\src\\\\datos_testeo.csv')\n"
   ]
  },
  {
   "cell_type": "code",
   "execution_count": 87,
   "metadata": {},
   "outputs": [],
   "source": [
    "X_train = train_data.drop([\"Outcome\"], axis = 1)\n",
    "y_train = train_data[\"Outcome\"]\n",
    "X_test = test_data.drop([\"Outcome\"], axis = 1)\n",
    "y_test = test_data[\"Outcome\"]"
   ]
  },
  {
   "cell_type": "code",
   "execution_count": 88,
   "metadata": {},
   "outputs": [
    {
     "data": {
      "text/html": [
       "<style>#sk-container-id-11 {color: black;}#sk-container-id-11 pre{padding: 0;}#sk-container-id-11 div.sk-toggleable {background-color: white;}#sk-container-id-11 label.sk-toggleable__label {cursor: pointer;display: block;width: 100%;margin-bottom: 0;padding: 0.3em;box-sizing: border-box;text-align: center;}#sk-container-id-11 label.sk-toggleable__label-arrow:before {content: \"▸\";float: left;margin-right: 0.25em;color: #696969;}#sk-container-id-11 label.sk-toggleable__label-arrow:hover:before {color: black;}#sk-container-id-11 div.sk-estimator:hover label.sk-toggleable__label-arrow:before {color: black;}#sk-container-id-11 div.sk-toggleable__content {max-height: 0;max-width: 0;overflow: hidden;text-align: left;background-color: #f0f8ff;}#sk-container-id-11 div.sk-toggleable__content pre {margin: 0.2em;color: black;border-radius: 0.25em;background-color: #f0f8ff;}#sk-container-id-11 input.sk-toggleable__control:checked~div.sk-toggleable__content {max-height: 200px;max-width: 100%;overflow: auto;}#sk-container-id-11 input.sk-toggleable__control:checked~label.sk-toggleable__label-arrow:before {content: \"▾\";}#sk-container-id-11 div.sk-estimator input.sk-toggleable__control:checked~label.sk-toggleable__label {background-color: #d4ebff;}#sk-container-id-11 div.sk-label input.sk-toggleable__control:checked~label.sk-toggleable__label {background-color: #d4ebff;}#sk-container-id-11 input.sk-hidden--visually {border: 0;clip: rect(1px 1px 1px 1px);clip: rect(1px, 1px, 1px, 1px);height: 1px;margin: -1px;overflow: hidden;padding: 0;position: absolute;width: 1px;}#sk-container-id-11 div.sk-estimator {font-family: monospace;background-color: #f0f8ff;border: 1px dotted black;border-radius: 0.25em;box-sizing: border-box;margin-bottom: 0.5em;}#sk-container-id-11 div.sk-estimator:hover {background-color: #d4ebff;}#sk-container-id-11 div.sk-parallel-item::after {content: \"\";width: 100%;border-bottom: 1px solid gray;flex-grow: 1;}#sk-container-id-11 div.sk-label:hover label.sk-toggleable__label {background-color: #d4ebff;}#sk-container-id-11 div.sk-serial::before {content: \"\";position: absolute;border-left: 1px solid gray;box-sizing: border-box;top: 0;bottom: 0;left: 50%;z-index: 0;}#sk-container-id-11 div.sk-serial {display: flex;flex-direction: column;align-items: center;background-color: white;padding-right: 0.2em;padding-left: 0.2em;position: relative;}#sk-container-id-11 div.sk-item {position: relative;z-index: 1;}#sk-container-id-11 div.sk-parallel {display: flex;align-items: stretch;justify-content: center;background-color: white;position: relative;}#sk-container-id-11 div.sk-item::before, #sk-container-id-11 div.sk-parallel-item::before {content: \"\";position: absolute;border-left: 1px solid gray;box-sizing: border-box;top: 0;bottom: 0;left: 50%;z-index: -1;}#sk-container-id-11 div.sk-parallel-item {display: flex;flex-direction: column;z-index: 1;position: relative;background-color: white;}#sk-container-id-11 div.sk-parallel-item:first-child::after {align-self: flex-end;width: 50%;}#sk-container-id-11 div.sk-parallel-item:last-child::after {align-self: flex-start;width: 50%;}#sk-container-id-11 div.sk-parallel-item:only-child::after {width: 0;}#sk-container-id-11 div.sk-dashed-wrapped {border: 1px dashed gray;margin: 0 0.4em 0.5em 0.4em;box-sizing: border-box;padding-bottom: 0.4em;background-color: white;}#sk-container-id-11 div.sk-label label {font-family: monospace;font-weight: bold;display: inline-block;line-height: 1.2em;}#sk-container-id-11 div.sk-label-container {text-align: center;}#sk-container-id-11 div.sk-container {/* jupyter's `normalize.less` sets `[hidden] { display: none; }` but bootstrap.min.css set `[hidden] { display: none !important; }` so we also need the `!important` here to be able to override the default hidden behavior on the sphinx rendered scikit-learn.org. See: https://github.com/scikit-learn/scikit-learn/issues/21755 */display: inline-block !important;position: relative;}#sk-container-id-11 div.sk-text-repr-fallback {display: none;}</style><div id=\"sk-container-id-11\" class=\"sk-top-container\"><div class=\"sk-text-repr-fallback\"><pre>RandomForestClassifier(n_estimators=60, random_state=42)</pre><b>In a Jupyter environment, please rerun this cell to show the HTML representation or trust the notebook. <br />On GitHub, the HTML representation is unable to render, please try loading this page with nbviewer.org.</b></div><div class=\"sk-container\" hidden><div class=\"sk-item\"><div class=\"sk-estimator sk-toggleable\"><input class=\"sk-toggleable__control sk-hidden--visually\" id=\"sk-estimator-id-11\" type=\"checkbox\" checked><label for=\"sk-estimator-id-11\" class=\"sk-toggleable__label sk-toggleable__label-arrow\">RandomForestClassifier</label><div class=\"sk-toggleable__content\"><pre>RandomForestClassifier(n_estimators=60, random_state=42)</pre></div></div></div></div></div>"
      ],
      "text/plain": [
       "RandomForestClassifier(n_estimators=60, random_state=42)"
      ]
     },
     "execution_count": 88,
     "metadata": {},
     "output_type": "execute_result"
    }
   ],
   "source": [
    "modelo = RandomForestClassifier(n_estimators=60, random_state=42)\n",
    "modelo.fit(X_train, y_train)"
   ]
  },
  {
   "cell_type": "code",
   "execution_count": 89,
   "metadata": {},
   "outputs": [
    {
     "data": {
      "text/plain": [
       "array([0, 0, 0, 0, 0, 1, 0, 1, 1, 1, 0, 1, 0, 0, 0, 0, 0, 0, 1, 1, 0, 0,\n",
       "       0, 0, 1, 1, 0, 0, 0, 0, 1, 1, 1, 1, 1, 1, 1, 1, 0, 1, 0, 0, 1, 0,\n",
       "       0, 1, 0, 0, 0, 1, 0, 1, 1, 0, 0, 0, 1, 0, 0, 1, 1, 0, 0, 0, 0, 1,\n",
       "       0, 1, 0, 1, 1, 0, 0, 0, 0, 0, 0, 0, 0, 0, 1, 0, 0, 0, 0, 1, 1, 1,\n",
       "       0, 0, 0, 0, 0, 1, 0, 1, 1, 0, 1, 0, 1, 0, 1, 1, 1, 0, 0, 1, 0, 1,\n",
       "       0, 1, 0, 1, 0, 0, 1, 0, 0, 1, 0, 0, 1, 0, 0, 1, 0, 1, 1, 1, 1, 1,\n",
       "       0, 1, 1, 0, 0, 1, 1, 0, 0, 0, 0, 0, 0, 0, 0, 0, 0, 1, 0, 0, 0, 0],\n",
       "      dtype=int64)"
      ]
     },
     "execution_count": 89,
     "metadata": {},
     "output_type": "execute_result"
    }
   ],
   "source": [
    "y_pred = modelo.predict(X_test)\n",
    "y_pred"
   ]
  },
  {
   "cell_type": "code",
   "execution_count": 90,
   "metadata": {},
   "outputs": [
    {
     "data": {
      "text/plain": [
       "0.7727272727272727"
      ]
     },
     "execution_count": 90,
     "metadata": {},
     "output_type": "execute_result"
    }
   ],
   "source": [
    "from sklearn.metrics import accuracy_score\n",
    "\n",
    "accuracy_score(y_test, y_pred)"
   ]
  },
  {
   "cell_type": "code",
   "execution_count": 94,
   "metadata": {},
   "outputs": [
    {
     "name": "stdout",
     "output_type": "stream",
     "text": [
      "La mejor combinación de pistas es: {'criterion': 'entropy', 'max_depth': 20, 'min_samples_leaf': 2, 'min_samples_split': 2, 'n_estimators': 60}\n",
      "Y con estas pistas, la precisión del detective es del 79.63%\n"
     ]
    }
   ],
   "source": [
    "from sklearn.model_selection import GridSearchCV, RandomizedSearchCV\n",
    "\n",
    "# Estas son todas las llaves diferentes que vamos a probar en la cerradura del tesoro.\n",
    "# 'criterion' es el tipo de pista que el detective prefiere.\n",
    "# 'max_depth' es qué tan lejos el detective sigue una sola pista antes de probar otra.\n",
    "# 'min_samples_split' es cuántas pistas necesita el detective antes de decidir seguir un camino.\n",
    "# 'min_samples_leaf' es el número mínimo de pistas finales que el detective quiere tener para estar seguro de su decisión.\n",
    "hyperparams = {\n",
    "    \"n_estimators\": [40, 50, 60, 100],\n",
    "    \"criterion\": [\"gini\", \"entropy\"],\n",
    "    \"max_depth\": [1, 5, 10, 20, 30, 40],\n",
    "    \"min_samples_split\": [2, 3, 5, 10],\n",
    "    \"min_samples_leaf\": [2, 3, 4]\n",
    "}\n",
    "\n",
    "# 'GridSearchCV' es como un robot que prueba todas las llaves por ti para ver cuál funciona mejor.\n",
    "# Le damos el robot (GridSearchCV), nuestro libro de aventuras (modelo_arbol), todas las llaves diferentes (hyperparams),\n",
    "# y le decimos que queremos encontrar la llave que nos da la mejor precisión (scoring='accuracy').\n",
    "# El 'cv=10' significa que el robot va a probar cada llave 10 veces para estar realmente seguro de cuál es la mejor.\n",
    "grid = GridSearchCV(modelo, hyperparams, scoring='accuracy', cv=10)\n",
    "\n",
    "# Ahora, le decimos al robot que comience a probar todas las llaves.\n",
    "grid.fit(X_train, y_train)\n",
    "mejores_parametros = grid.best_params_\n",
    "\n",
    "# Después de probar todas las llaves, el robot nos dirá cuál es la mejor combinación para abrir el tesoro.\n",
    "print(f\"La mejor combinación de pistas es: {mejores_parametros}\")\n",
    "print(f\"Y con estas pistas, la precisión del detective es del {grid.best_score_ * 100:.2f}%\")"
   ]
  },
  {
   "cell_type": "code",
   "execution_count": 77,
   "metadata": {},
   "outputs": [
    {
     "name": "stdout",
     "output_type": "stream",
     "text": [
      "La precisión de nuestra llave especial es del 75.32%\n"
     ]
    }
   ],
   "source": [
    "# Aquí estamos creando un nuevo cofre del tesoro, pero esta vez usando la llave especial que encontramos.\n",
    "# 'mejores_parametros' es como las instrucciones secretas de cómo usar la llave.\n",
    "# 'random_state = 42' es como un hechizo mágico para asegurarnos de que cada vez que intentemos abrir el cofre, todo suceda de la misma manera.\n",
    "modelo_arbol_mejorado = RandomForestClassifier(**mejores_parametros, random_state = 42)\n",
    "\n",
    "# Ahora, le damos al cofre todas las cosas que sabemos sobre tesoros (X_train) y lo que realmente había dentro de los cofres antiguos (y_train).\n",
    "# Esto es para enseñarle al cofre cómo usar la llave especial.\n",
    "modelo_arbol_mejorado.fit(X_train, y_train)\n",
    "\n",
    "# Llegó el momento de la verdad. Vamos a ver si nuestra llave especial puede predecir lo que hay dentro de nuevos cofres del tesoro (X_test).\n",
    "y_pred = modelo_arbol_mejorado.predict(X_test)\n",
    "\n",
    "# Para saber qué tan buena es nuestra llave especial, comparamos lo que predijo con lo que realmente había dentro de los cofres (y_test).\n",
    "# Esto es como contar cuántas veces acertamos al adivinar lo que había dentro del cofre.\n",
    "accuracy = accuracy_score(y_test, y_pred)\n",
    "\n",
    "# Finalmente, mostramos qué tan buena fue nuestra llave especial al abrir los cofres.\n",
    "print(f\"La precisión de nuestra llave especial es del {accuracy * 100:.2f}%\")"
   ]
  },
  {
   "cell_type": "code",
   "execution_count": 66,
   "metadata": {},
   "outputs": [],
   "source": [
    "# Evaluar el modelo complejo en entrenamiento y prueba\n",
    "train_pred = modelo_arbol_mejorado.predict(X_train)\n",
    "test_pred = modelo_arbol_mejorado.predict(X_test)"
   ]
  },
  {
   "cell_type": "code",
   "execution_count": 95,
   "metadata": {},
   "outputs": [],
   "source": [
    "def get_metrics(y_train, y_test, y_pred_train, y_pred_test):\n",
    "    # Calcular métricas para el conjunto de entrenamiento\n",
    "    train_accuracy = accuracy_score(y_train, y_pred_train)\n",
    "    train_f1 = f1_score(y_train, y_pred_train)\n",
    "    train_auc = roc_auc_score(y_train, y_pred_train)\n",
    "    train_precision = precision_score(y_train, y_pred_train)\n",
    "    train_recall = recall_score(y_train, y_pred_train)\n",
    "    train_specificity = specificity_score(y_train, y_pred_train)\n",
    "    # Calcular métricas para el conjunto de prueba\n",
    "    test_accuracy = accuracy_score(y_test, y_pred_test)\n",
    "    test_f1 = f1_score(y_test, y_pred_test)\n",
    "    test_auc = roc_auc_score(y_test, y_pred_test)\n",
    "    test_precision = precision_score(y_test, y_pred_test)\n",
    "    test_recall = recall_score(y_test, y_pred_test)\n",
    "    test_specificity = specificity_score(y_test, y_pred_test)\n",
    "    # Calcular la diferencia entre métricas de entrenamiento y prueba\n",
    "    diff_accuracy = train_accuracy - test_accuracy\n",
    "    diff_f1 = train_f1 - test_f1\n",
    "    diff_auc = train_auc - test_auc\n",
    "    diff_precision = train_precision - test_precision\n",
    "    diff_recall = train_recall - test_recall\n",
    "    diff_specificity = train_specificity - test_specificity\n",
    "    # Crear un DataFrame con los resultados\n",
    "    metrics_df = pd.DataFrame([[train_accuracy, train_f1, train_auc, train_precision, train_recall, train_specificity],[test_accuracy, test_f1, test_auc, test_precision, test_recall, test_specificity],[diff_accuracy, diff_f1, diff_auc, diff_precision, diff_recall, diff_specificity]],\n",
    "                              columns = ['Accuracy', 'F1', 'AUC', 'Precision', 'Recall', 'Specificity'],\n",
    "                              index = ['Train','Test', 'Diferencia'])\n",
    "    return metrics_df"
   ]
  },
  {
   "cell_type": "code",
   "execution_count": 96,
   "metadata": {},
   "outputs": [
    {
     "data": {
      "text/html": [
       "<div>\n",
       "<style scoped>\n",
       "    .dataframe tbody tr th:only-of-type {\n",
       "        vertical-align: middle;\n",
       "    }\n",
       "\n",
       "    .dataframe tbody tr th {\n",
       "        vertical-align: top;\n",
       "    }\n",
       "\n",
       "    .dataframe thead th {\n",
       "        text-align: right;\n",
       "    }\n",
       "</style>\n",
       "<table border=\"1\" class=\"dataframe\">\n",
       "  <thead>\n",
       "    <tr style=\"text-align: right;\">\n",
       "      <th></th>\n",
       "      <th>Accuracy</th>\n",
       "      <th>F1</th>\n",
       "      <th>AUC</th>\n",
       "      <th>Precision</th>\n",
       "      <th>Recall</th>\n",
       "      <th>Specificity</th>\n",
       "    </tr>\n",
       "  </thead>\n",
       "  <tbody>\n",
       "    <tr>\n",
       "      <th>Train</th>\n",
       "      <td>0.983713</td>\n",
       "      <td>0.976303</td>\n",
       "      <td>0.979827</td>\n",
       "      <td>0.985646</td>\n",
       "      <td>0.967136</td>\n",
       "      <td>0.992519</td>\n",
       "    </tr>\n",
       "    <tr>\n",
       "      <th>Test</th>\n",
       "      <td>0.753247</td>\n",
       "      <td>0.660714</td>\n",
       "      <td>0.735354</td>\n",
       "      <td>0.649123</td>\n",
       "      <td>0.672727</td>\n",
       "      <td>0.797980</td>\n",
       "    </tr>\n",
       "    <tr>\n",
       "      <th>Diferencia</th>\n",
       "      <td>0.230467</td>\n",
       "      <td>0.315589</td>\n",
       "      <td>0.244474</td>\n",
       "      <td>0.336523</td>\n",
       "      <td>0.294409</td>\n",
       "      <td>0.194539</td>\n",
       "    </tr>\n",
       "  </tbody>\n",
       "</table>\n",
       "</div>"
      ],
      "text/plain": [
       "            Accuracy        F1       AUC  Precision    Recall  Specificity\n",
       "Train       0.983713  0.976303  0.979827   0.985646  0.967136     0.992519\n",
       "Test        0.753247  0.660714  0.735354   0.649123  0.672727     0.797980\n",
       "Diferencia  0.230467  0.315589  0.244474   0.336523  0.294409     0.194539"
      ]
     },
     "execution_count": 96,
     "metadata": {},
     "output_type": "execute_result"
    }
   ],
   "source": [
    "get_metrics(y_train, y_test, train_pred, test_pred)"
   ]
  }
 ],
 "metadata": {
  "kernelspec": {
   "display_name": "Python 3",
   "language": "python",
   "name": "python3"
  },
  "language_info": {
   "codemirror_mode": {
    "name": "ipython",
    "version": 3
   },
   "file_extension": ".py",
   "mimetype": "text/x-python",
   "name": "python",
   "nbconvert_exporter": "python",
   "pygments_lexer": "ipython3",
   "version": "3.10.6"
  }
 },
 "nbformat": 4,
 "nbformat_minor": 2
}
